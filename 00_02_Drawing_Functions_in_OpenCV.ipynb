{
 "cells": [
  {
   "cell_type": "markdown",
   "metadata": {
    "colab_type": "text",
    "id": "S-f3dCK5d6Ow"
   },
   "source": [
    "# Drawing Functions in OpenCV\n",
    "\n",
    "## Goal\n",
    "\n",
    "* Learn to draw different geometric shapes with OpenCV\n",
    "* You will learn these functions : \n",
    "    * cv2.line()\n",
    "    * cv2.circle() \n",
    "    * cv2.rectangle()\n",
    "    * cv2.ellipse()\n",
    "    * cv2.putText()"
   ]
  },
  {
   "cell_type": "markdown",
   "metadata": {
    "colab_type": "text",
    "id": "H30pjOfYd6Oy"
   },
   "source": [
    "## Code\n",
    "In all the above functions, you will see some common arguments as given below:\n",
    "\n",
    "* img : The image where you want to draw the shapes\n",
    "* color : Color of the shape. for BGR, pass it as a tuple, eg: `(255,0,0)` for blue. For grayscale, just pass the scalar value.\n",
    "* thickness : Thickness of the line or circle etc. If -1 is passed for closed figures like circles, it will fill the shape. *default thickness = 1*\n",
    "* lineType : Type of line, whether 8-connected, anti-aliased line etc. By default, it is 8-connected. `cv2.LINE_AA` gives anti-aliased line which looks great for curves.\n",
    "    "
   ]
  },
  {
   "cell_type": "markdown",
   "metadata": {
    "colab_type": "text",
    "id": "ou5Pau31d6Oz"
   },
   "source": [
    "## Drawing Line\n",
    "\n",
    "To draw a line, you need to pass **starting and ending coordinates** of line. We will create a black image and draw a blue line on it from top-left to bottom-right corners.\n"
   ]
  },
  {
   "cell_type": "code",
   "execution_count": 1,
   "metadata": {
    "colab": {},
    "colab_type": "code",
    "id": "88W0PGwmd6O0"
   },
   "outputs": [],
   "source": [
    "import numpy as np\n",
    "import cv2\n",
    "\n",
    "# Create a black image\n",
    "img = np.zeros((512,512,3), np.uint8)\n",
    "\n",
    "# Draw a diagonal blue line with thickness of 5 px\n",
    "img = cv2.line(img,(128,0),(128,511),(0,0,255),5)#변경할 일이 없기 때문에 튜플로 저장하게 됨.\n"
   ]
  },
  {
   "cell_type": "code",
   "execution_count": 2,
   "metadata": {
    "colab": {
     "base_uri": "https://localhost:8080/",
     "height": 252
    },
    "colab_type": "code",
    "id": "RiUqjeHOd6O2",
    "outputId": "58229412-6639-4d0c-b21e-78646f6ddec1"
   },
   "outputs": [],
   "source": [
    "from matplotlib import pyplot as plt\n",
    "\n",
    "# b,g,r = cv2.split(img)\n",
    "# img2 = cv2.merge([r,g,b])\n",
    "img2 = img[:,:,::-1] # faster version.\n",
    "\n",
    "cv2.imshow('img', img2)\n",
    "cv2.waitKey(0)\n",
    "cv2.destroyAllWindows()"
   ]
  },
  {
   "cell_type": "code",
   "execution_count": 3,
   "metadata": {},
   "outputs": [
    {
     "name": "stdout",
     "output_type": "stream",
     "text": [
      "(512, 512, 3)\n"
     ]
    }
   ],
   "source": [
    "print(img.shape)"
   ]
  },
  {
   "cell_type": "markdown",
   "metadata": {
    "colab_type": "text",
    "id": "Q1GkgG0ld6O5"
   },
   "source": [
    "# Drawing Rectangle\n",
    "\n",
    "* To draw a rectangle, you need **top-left corner and bottom-right corner of rectangle**. \n",
    "* This time we will draw a **green rectangle** at the top-right corner of image."
   ]
  },
  {
   "cell_type": "code",
   "execution_count": 4,
   "metadata": {
    "colab": {},
    "colab_type": "code",
    "id": "13kZ_HNwd6O6"
   },
   "outputs": [],
   "source": [
    "img = cv2.rectangle(img,(0,512),(128,384),(0,255,0),-1)#-1은 채우기 왼쪽 하단에 사각형 만드는 코드"
   ]
  },
  {
   "cell_type": "code",
   "execution_count": 5,
   "metadata": {
    "colab": {},
    "colab_type": "code",
    "id": "0BR5p0bcd6O8",
    "outputId": "7e8ecf53-b566-47d4-c4b3-b554a364c8f6"
   },
   "outputs": [],
   "source": [
    "from matplotlib import pyplot as plt\n",
    "\n",
    "# b,g,r = cv2.split(img)\n",
    "# img2 = cv2.merge([r,g,b])\n",
    "img2 = img[:,:,::-1] # faster version.\n",
    "cv2.imshow('img', img2)\n",
    "cv2.waitKey(0)\n",
    "cv2.destroyAllWindows()"
   ]
  },
  {
   "cell_type": "markdown",
   "metadata": {
    "colab_type": "text",
    "id": "b0CynH8nd6O-"
   },
   "source": [
    "# Drawing Circle\n",
    "\n",
    "* To draw a circle, you need **its center coordinates and radius**. \n",
    "* We will draw a circle inside the rectangle drawn above."
   ]
  },
  {
   "cell_type": "code",
   "execution_count": 6,
   "metadata": {
    "colab": {},
    "colab_type": "code",
    "id": "nKPPSHWLd6O-"
   },
   "outputs": [],
   "source": [
    "img = cv2.circle(img,(447,63), 63, (255,0,0), -1)"
   ]
  },
  {
   "cell_type": "code",
   "execution_count": 7,
   "metadata": {
    "colab": {},
    "colab_type": "code",
    "id": "LXwMrvOvd6PA",
    "outputId": "476c374f-7bff-4067-e53c-799b46c1424d"
   },
   "outputs": [
    {
     "data": {
      "image/png": "[encoded data removed]",
      "text/plain": [
       "<Figure size 432x288 with 1 Axes>"
      ]
     },
     "metadata": {},
     "output_type": "display_data"
    }
   ],
   "source": [
    "from matplotlib import pyplot as plt\n",
    "\n",
    "# b,g,r = cv2.split(img)\n",
    "# img2 = cv2.merge([r,g,b])\n",
    "img2 = img[:,:,::-1] # faster version.\n",
    "plt.imshow(img2,cmap='gray', interpolation='bicubic')\n",
    "plt.xticks([]); plt.yticks([]) # to hide tick values on X and Y axis\n",
    "plt.show()"
   ]
  },
  {
   "cell_type": "markdown",
   "metadata": {
    "colab_type": "text",
    "id": "_k-jsaiUd6PC"
   },
   "source": [
    "# Drawing Ellipse\n",
    "\n",
    "To draw the ellipse, we need to pass several arguments. \n",
    "\n",
    "* One argument is the center location `(x,y)`. \n",
    "* Next argument is axes lengths `(major axis length, minor axis length)`.\n",
    "* `angle` is the angle of rotation of ellipse in **anti-clockwise direction**. \n",
    "* `startAngle` and `endAngle` denotes the starting and ending of ellipse arc measured in clockwise direction from major axis. i.e. giving values 0 and 360 gives the full ellipse. \n",
    "* For more details, check the documentation of `cv2.ellipse()`. \n",
    "\n",
    "Below example draws a half ellipse at the center of the image."
   ]
  },
  {
   "cell_type": "code",
   "execution_count": 8,
   "metadata": {
    "colab": {},
    "colab_type": "code",
    "id": "2W0pOdQZd6PD"
   },
   "outputs": [],
   "source": [
    "img = np.zeros((512,512,3), np.uint8)\n",
    "img = cv2.ellipse(img,(256,256),(100,50),0,45,180,255,-1)"
   ]
  },
  {
   "cell_type": "code",
   "execution_count": 9,
   "metadata": {
    "colab": {},
    "colab_type": "code",
    "id": "wv2nwlFQd6PF",
    "outputId": "f4b0f885-1fbd-410c-f94c-9c26acafadc7"
   },
   "outputs": [
    {
     "data": {
      "image/png": "[encoded data removed]",
      "text/plain": [
       "<Figure size 432x288 with 1 Axes>"
      ]
     },
     "metadata": {},
     "output_type": "display_data"
    }
   ],
   "source": [
    "from matplotlib import pyplot as plt\n",
    "\n",
    "# b,g,r = cv2.split(img)\n",
    "# img2 = cv2.merge([r,g,b])\n",
    "img2 = img[:,:,::-1] # faster version.\n",
    "plt.imshow(img2,cmap='gray', interpolation='bicubic')\n",
    "plt.xticks([]); plt.yticks([]) # to hide tick values on X and Y axis\n",
    "plt.show()"
   ]
  },
  {
   "cell_type": "markdown",
   "metadata": {
    "colab_type": "text",
    "id": "mg7jJyMWd6PH"
   },
   "source": [
    "# Drawing Polygon\n",
    "\n",
    "To draw a polygon, \n",
    "* first you need coordinates of vertices. \n",
    "* Make those points into an array of shape `ROWSx1x2` where ROWS are number of vertices and it should be of type int32. \n",
    "* Here we draw a small polygon of with **four vertices** in yellow color."
   ]
  },
  {
   "cell_type": "code",
   "execution_count": 10,
   "metadata": {
    "colab": {},
    "colab_type": "code",
    "id": "zpBIo28pd6PI",
    "outputId": "a25526b0-296a-4a1e-b623-14a68f4c8e91"
   },
   "outputs": [
    {
     "name": "stdout",
     "output_type": "stream",
     "text": [
      "(4, 2)\n",
      "[[[10  5]]\n",
      "\n",
      " [[20 30]]\n",
      "\n",
      " [[70 20]]\n",
      "\n",
      " [[50 10]]]\n",
      "(4, 1, 2)\n"
     ]
    }
   ],
   "source": [
    "pts = np.array([[10,5],[20,30],[70,20],[50,10]], np.int32)\n",
    "print(pts.shape)\n",
    "pts = pts.reshape((-1,1,2))\n",
    "print(pts)\n",
    "print(pts.shape)\n",
    "img = cv2.polylines(img,[pts],True,(0,255,255))"
   ]
  },
  {
   "cell_type": "code",
   "execution_count": 19,
   "metadata": {},
   "outputs": [
    {
     "name": "stdout",
     "output_type": "stream",
     "text": [
      "Object `polyline` not found.\n"
     ]
    }
   ],
   "source": [
    "polyline?"
   ]
  },
  {
   "cell_type": "code",
   "execution_count": 11,
   "metadata": {
    "colab": {},
    "colab_type": "code",
    "id": "SGIgTmChd6PK",
    "outputId": "004c7a10-1b45-47e1-d551-aa1e1b8bfc42"
   },
   "outputs": [
    {
     "data": {
      "image/png": "[encoded data removed]",
      "text/plain": [
       "<Figure size 432x288 with 1 Axes>"
      ]
     },
     "metadata": {},
     "output_type": "display_data"
    }
   ],
   "source": [
    "from matplotlib import pyplot as plt\n",
    "\n",
    "# b,g,r = cv2.split(img)\n",
    "# img2 = cv2.merge([r,g,b])\n",
    "img2 = img[:,:,::-1] # faster version.\n",
    "plt.imshow(img2,cmap='gray', interpolation='bicubic')\n",
    "plt.xticks([]); plt.yticks([]) # to hide tick values on X and Y axis\n",
    "plt.show()"
   ]
  },
  {
   "cell_type": "markdown",
   "metadata": {
    "colab_type": "text",
    "id": "5NzSOCaJd6PM"
   },
   "source": [
    "> **Note**\n",
    "> If third argument is `False`, you will get a polylines joining all the points, **not a closed shape**."
   ]
  },
  {
   "cell_type": "code",
   "execution_count": 12,
   "metadata": {
    "colab": {},
    "colab_type": "code",
    "id": "8nCFOl9dd6PM"
   },
   "outputs": [],
   "source": [
    "img = np.zeros((512,512,3), np.uint8)\n",
    "img = cv2.polylines(img,[pts],False,(0,255,255))"
   ]
  },
  {
   "cell_type": "code",
   "execution_count": 13,
   "metadata": {
    "colab": {},
    "colab_type": "code",
    "id": "j5Cyi0FQd6PO",
    "outputId": "594386e8-1d8d-4920-f68c-15ba46aea87d"
   },
   "outputs": [
    {
     "data": {
      "image/png": "[encoded data removed]",
      "text/plain": [
       "<Figure size 432x288 with 1 Axes>"
      ]
     },
     "metadata": {},
     "output_type": "display_data"
    }
   ],
   "source": [
    "from matplotlib import pyplot as plt\n",
    "\n",
    "# b,g,r = cv2.split(img)\n",
    "# img2 = cv2.merge([r,g,b])\n",
    "img2 = img[:,:,::-1] # faster version.\n",
    "plt.imshow(img2,cmap='gray', interpolation='bicubic')\n",
    "plt.xticks([]); plt.yticks([]) # to hide tick values on X and Y axis\n",
    "plt.show()"
   ]
  },
  {
   "cell_type": "markdown",
   "metadata": {
    "colab_type": "text",
    "id": "gPJeuMfod6PQ"
   },
   "source": [
    "> # Note\n",
    ">\n",
    "> `cv2.polylines()` can be used to draw multiple lines. Just create a list of all the lines you want to draw and pass it to the function. All lines will be drawn individually. It is more better and faster way to draw a group of lines than calling `cv2.line()` for each line."
   ]
  },
  {
   "cell_type": "markdown",
   "metadata": {
    "colab_type": "text",
    "id": "AhDOmJ16d6PR"
   },
   "source": [
    "## Adding Text to Images:\n",
    "\n",
    "To put texts in images, you need specify following things.\n",
    "\n",
    "* Text data that you want to write\n",
    "* Position coordinates of where you want put it (i.e. bottom-left corner where data starts).\n",
    "* Font type (Check cv2.putText() docs for supported fonts)\n",
    "* Font Scale (specifies the size of font)\n",
    "* regular things like color, thickness, lineType etc. For better look, lineType = cv2.LINE_AA is recommended.\n",
    "\n",
    "We will write OpenCV on our image in white color."
   ]
  },
  {
   "cell_type": "code",
   "execution_count": 31,
   "metadata": {
    "colab": {},
    "colab_type": "code",
    "id": "ix2j99rOd6PS"
   },
   "outputs": [],
   "source": [
    "font = cv2.FONT_HERSHEY_SIMPLEX\n",
    "img = np.zeros((512,512,3), np.uint8)\n",
    "img = cv2.putText(img,'100',(10,500), font, 2,(255,255,255),5,cv2.LINE_AA)"
   ]
  },
  {
   "cell_type": "code",
   "execution_count": 30,
   "metadata": {
    "colab": {},
    "colab_type": "code",
    "id": "Typmypzxd6PU",
    "outputId": "e75c14cc-0cb5-403f-ba8e-2537cdc4fb59"
   },
   "outputs": [
    {
     "data": {
      "image/png": "[encoded data removed]",
      "text/plain": [
       "<Figure size 432x288 with 1 Axes>"
      ]
     },
     "metadata": {},
     "output_type": "display_data"
    }
   ],
   "source": [
    "from matplotlib import pyplot as plt\n",
    "\n",
    "# b,g,r = cv2.split(img)\n",
    "# img2 = cv2.merge([r,g,b])\n",
    "img2 = img[:,:,::-1] # faster version.\n",
    "plt.imshow(img2,cmap='gray', interpolation='bicubic')\n",
    "plt.xticks([]); plt.yticks([]) # to hide tick values on X and Y axis\n",
    "plt.show()"
   ]
  },
  {
   "cell_type": "markdown",
   "metadata": {
    "colab_type": "text",
    "id": "3RFc0WFQd6PW"
   },
   "source": [
    "## Result\n",
    "\n",
    "So it is time to see the final result of our drawing. As you studied in previous articles, display the image to see it."
   ]
  },
  {
   "cell_type": "code",
   "execution_count": 16,
   "metadata": {
    "colab": {},
    "colab_type": "code",
    "id": "v6TEj4yPd6PW",
    "outputId": "c7149b57-6128-4d18-da00-4e0275c05bcf"
   },
   "outputs": [
    {
     "data": {
      "image/png": "[encoded data removed]",
      "text/plain": [
       "<Figure size 432x288 with 1 Axes>"
      ]
     },
     "metadata": {},
     "output_type": "display_data"
    }
   ],
   "source": [
    "from matplotlib import pyplot as plt\n",
    "\n",
    "# b,g,r = cv2.split(img)\n",
    "# img2 = cv2.merge([r,g,b])\n",
    "img2 = img[:,:,::-1] # faster version.\n",
    "plt.imshow(img2,cmap='gray', interpolation='bicubic')\n",
    "plt.xticks([]); plt.yticks([]) # to hide tick values on X and Y axis\n",
    "\n",
    "plt.show()"
   ]
  },
  {
   "cell_type": "markdown",
   "metadata": {
    "colab_type": "text",
    "id": "rYy4uqO2d6PY"
   },
   "source": [
    "## Additional Resources\n",
    "\n",
    "The angles used in ellipse function is not our circular angles.\n",
    "\n",
    "* Starting angle and ending angle are measured in arc-angles from an ellipse, not from a circle. \n",
    "* The phenomen is visualized in paragraph (59) of http://mathworld.wolfram.com/Ellipse.html . \n",
    "\n",
    "visit this discussion : (https://answers.opencv.org/question/14541/angles-in-ellipse-function/)"
   ]
  }
 ],
 "metadata": {
  "colab": {
   "name": "00_02_Drawing Functions in OpenCV.ipynb",
   "provenance": [],
   "toc_visible": true
  },
  "kernelspec": {
   "display_name": "Python 3",
   "language": "python",
   "name": "python3"
  },
  "language_info": {
   "codemirror_mode": {
    "name": "ipython",
    "version": 3
   },
   "file_extension": ".py",
   "mimetype": "text/x-python",
   "name": "python",
   "nbconvert_exporter": "python",
   "pygments_lexer": "ipython3",
   "version": "3.7.3"
  }
 },
 "nbformat": 4,
 "nbformat_minor": 4
}
