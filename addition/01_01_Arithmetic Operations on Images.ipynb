{
 "cells": [
  {
   "cell_type": "markdown",
   "metadata": {},
   "source": [
    "# Arithmetic Operations on Images\n",
    "산술 연산\n",
    "## Goal\n",
    "\n",
    "* Learn several arithmetic operations on images like \n",
    "    * addition, +\n",
    "    * subtraction, -\n",
    "    * bitwise operations 비트연산자\n",
    "    * etc.\n",
    "* You will learn these functions : \n",
    "    * `cv2.add()`, \n",
    "    * `cv2.addWeighted()` \n",
    "    * etc."
   ]
  },
  {
   "cell_type": "markdown",
   "metadata": {},
   "source": [
    "## Image Addition\n",
    "\n",
    "You can add two images by **OpenCV** function, `cv2.add()` or simply by numpy operation, `res = img1 + img2`. Both images should be of same depth and type, or second image can just be a scalar value.\n",
    "\n",
    "> ## Note\n",
    ">\n",
    "> There is a difference between `OpenCV addition` and `Numpy addition`. \n",
    "> `OpenCV addition` is a saturated operation while `Numpy addition` is a modulo operation.\n",
    "\n",
    "For example, consider below sample:"
   ]
  },
  {
   "cell_type": "code",
   "execution_count": 1,
   "metadata": {},
   "outputs": [],
   "source": [
    "import cv2\n",
    "import numpy as np"
   ]
  },
  {
   "cell_type": "code",
   "execution_count": 2,
   "metadata": {},
   "outputs": [
    {
     "name": "stdout",
     "output_type": "stream",
     "text": [
      "[[255]]\n",
      "[4]\n"
     ]
    }
   ],
   "source": [
    "x = np.uint8([250])#2^8만큼 표현 가능\n",
    "y = np.uint8([10])\n",
    "\n",
    "# 250+10 = 260 => 255\n",
    "print(cv2.add(x,y))#더했을때 최대 255\n",
    "\n",
    "# 250+10 = 260 % 256 = 4\n",
    "print(x+y)#최대 256까지 표현이 가능하기 때문에 256으로 나눈 나머지 값이 나옴."
   ]
  },
  {
   "cell_type": "markdown",
   "metadata": {},
   "source": [
    "It will be more visible when you add two images. **OpenCV function** will provide a better result. So, always better stick to OpenCV functions."
   ]
  },
  {
   "cell_type": "markdown",
   "metadata": {},
   "source": [
    "## Image Blending\n",
    "이미지 더하기.\n",
    "\n",
    "This is also image addtion, but different weights are given to images so that it gives a feeling of blending or trasparency. Images are added as per the equation below:\n",
    "더할때 가중치를 두어서 섞이거나 투명한 느낌을 줌.\n",
    "\n",
    "$$\n",
    "g(x) = (1-\\alpha) f_0 (x) + \\alpha f_1 (x)\n",
    "$$\n",
    "\n",
    "By varing $\\alpha$ from 0 to 1, you can perform a cool transition b/w one image to another"
   ]
  },
  {
   "cell_type": "markdown",
   "metadata": {},
   "source": [
    "Here I took two images to blend them together. First image is given a weight of 0.7 and second image is given a weight of 0.3. `cv2.addWeight()` applies following equation on the image.\n",
    "\n",
    "$$\n",
    "dst = \\alpha \\cdot img_1 + \\beta \\cdot img_2 + \\gamma\n",
    "$$\n",
    "\n",
    "Here $\\gamma$ is taken as zero"
   ]
  },
  {
   "cell_type": "code",
   "execution_count": 3,
   "metadata": {},
   "outputs": [
    {
     "name": "stdout",
     "output_type": "stream",
     "text": [
      "(380, 308, 3)\n",
      "(380, 308, 3)\n"
     ]
    }
   ],
   "source": [
    "img1 = cv2.imread('ml.png')\n",
    "img2 = cv2.imread('opencv-logo.png')\n",
    "img2 = cv2.resize(img2, dsize=(img1.shape[1],img1.shape[0]), interpolation= cv2.INTER_AREA)\n",
    "print(img1.shape)\n",
    "print(img2.shape)\n",
    "\n",
    "dst = cv2.addWeighted(img1,0.7, img2,0.3,0)\n",
    "#img1 에 가중치 0.7, img2에 가중치 0.3\n",
    "#img1이 더 진한 색으로 나타나게 됨.\n",
    "\n",
    "cv2.imshow('dst',dst)\n",
    "cv2.waitKey(0)\n",
    "cv2.destroyWindow('dst')"
   ]
  },
  {
   "cell_type": "markdown",
   "metadata": {},
   "source": [
    "## Bitwise Operations\n",
    "\n",
    "This includes bitwise **AND**, **OR**, **NOT** and **XOR** operations. \n",
    "They will be highly useful while extracting any part of the image (as we will see in coming chapters), defining and working with non-rectangular ROI etc.\n",
    "이미지의 일부를 추출할때, ROI를 정의할때. ROI(관심 영역, 영상 내에서 작업을 수행하고자 하는 특정 영역을 의미)\n",
    "Below we will see an example on how to change a particular region of an image.\n",
    "\n",
    "I want to put **OpenCV** logo above an image. If I add two images, it will change color. If I blend it, I get an transparent effect. But I want it to be opaque. It it was a rectangular region, I could use ROI as we did in last chapter. But OpenCV log is a not a retangular shape. So you can do it with bitwise operations as below:\n",
    "\n",
    "두개 이미지를 그냥 더하면 색이 바뀌고, blend를 하면 투명한 효과를 얻을 수 있다.\n",
    "불투명하게 합성을 하고 싶을 때, 직사각형 모양이 아닌 이미지를 비트연산자로 수행할 수 있는 것."
   ]
  },
  {
   "cell_type": "code",
   "execution_count": 7,
   "metadata": {},
   "outputs": [],
   "source": [
    "# Load two images\n",
    "import numpy as np\n",
    "import cv2\n",
    "\n",
    "img1 = cv2.imread('messi5.jpg')\n",
    "img2 = cv2.imread('opencv-logo-white.png')\n",
    "img2 = cv2.resize(img2, dsize=(0,0), fx=0.2, fy=0.2, interpolation= cv2.INTER_AREA)\n",
    "\n",
    "# I want to put logo on top-left corner, So I create a ROI\n",
    "rows, cols, channels = img2.shape\n",
    "roi = img1[0:rows, 0:cols]\n",
    "#로고 위치 지정\n",
    "\n",
    "# Now create a mask of logo and create its inverse mask also\n",
    "img2gray = cv2.cvtColor(img2, cv2.COLOR_BGR2GRAY)\n",
    "cv2.imshow('img2gray',img2gray)\n",
    "\n",
    "ret, mask = cv2.threshold(img2gray, 10,255, cv2.THRESH_BINARY)\n",
    "mask_inv = cv2.bitwise_not(mask)\n",
    "cv2.imshow('mask',mask)\n",
    "\n",
    "# Now black-out the area of logo in ROI\n",
    "img1_bg = cv2.bitwise_and(roi,roi,mask = mask_inv)\n",
    "#ROI에서 로고에 해당하는 부분만 검정색으로 만들기\n",
    "#bitwise_and 연산자는 둘다 0이 아닌 경우만 값을 통과 시킴.\n",
    "#즉 mask가 검정색이 아닌 경우만 통과가 되기때문에 mask영역 이외는 모두 제거됨.\n",
    "\n",
    "# Take only region of logo from logo image\n",
    "img2_fg = cv2.bitwise_and(img2,img2,mask= mask)\n",
    "#로고 이미지에서 로고 부분만 추출하기\n",
    "\n",
    "# Put logo in ROI and modify the main image\n",
    "dst = cv2.add(img1_bg,img2_fg)\n",
    "img1[0:rows,0:cols] = dst\n",
    "\n",
    "cv2.imshow('res',img1)\n",
    "\n",
    "cv2.waitKey(0)\n",
    "cv2.destroyAllWindows()"
   ]
  },
  {
   "cell_type": "markdown",
   "metadata": {},
   "source": [
    "For more understanding, display all the intermediate images in the above code, especially `img1_bg` and `img2_fg`.\n",
    "\n"
   ]
  },
  {
   "cell_type": "code",
   "execution_count": null,
   "metadata": {},
   "outputs": [],
   "source": []
  }
 ],
 "metadata": {
  "kernelspec": {
   "display_name": "Python 3",
   "language": "python",
   "name": "python3"
  },
  "language_info": {
   "codemirror_mode": {
    "name": "ipython",
    "version": 3
   },
   "file_extension": ".py",
   "mimetype": "text/x-python",
   "name": "python",
   "nbconvert_exporter": "python",
   "pygments_lexer": "ipython3",
   "version": "3.7.4"
  }
 },
 "nbformat": 4,
 "nbformat_minor": 4
}
